{
 "cells": [
  {
   "attachments": {},
   "cell_type": "markdown",
   "metadata": {},
   "source": [
    "# Report\n",
    "\n",
    "## 1. Folder Tree\n",
    "**Report.ipynb** - Describing the algorithm of Multi-Agent DDPG(MADDPG) for solving the \"Tennis\" task.\n",
    "\n",
    "**main.ipynb** - Containing the training code of the MADDPG algorithm and showing the return of each episode along the \n",
    "training step.\n",
    "\n",
    "**model.py&utils.py** - Containing the network architechture\n",
    "\n",
    "**MADDPG.ckpt** - The trained model weights.\n",
    "\n",
    "**MADDPG_max_scores.csv** - results.\n",
    "\n",
    "## 2. Approach\n",
    "Due to the fact that it is often unstable to train multiple agent in a environment. I implement the MADDPG algorithm that partly solve this problem. MADDPG is extended from the DDPG algorithm, and constructed by Actor-Critic architecture. The diffrence between them is use the so called \"decentralized actor\" with the \"centralized critic\", which better fit the multi agent problem, see figure below.\n",
    "<img src='figure/multi-agent-actor-critic.png' width=30% height=30%>\n",
    "Next, I will discussed my implementation of this algorithm.\n",
    "\n",
    "### 2.1 Actor-Critic\n",
    "First, I create two decentralized actor and a centralized critic along with their target networks for two agent. The code can be found in \"Agent\" class of model.py.\n",
    "```python\n",
    "        self.actor_local_0 = Actor(state_size, action_size, embed_dim, seed).to(\n",
    "            device)\n",
    "        self.actor_target_0 = Actor(state_size, action_size, embed_dim, seed).to(\n",
    "            device)\n",
    "        self.actor_optimizer_0 = optim.Adam(self.actor_local_0.parameters(), lr=lr)\n",
    "\n",
    "        self.actor_local_1 = Actor(state_size, action_size, embed_dim, seed).to(\n",
    "            device)\n",
    "        self.actor_target_1 = Actor(state_size, action_size, embed_dim, seed).to(\n",
    "            device)\n",
    "        self.actor_optimizer_1 = optim.Adam(self.actor_local_1.parameters(), lr=lr)\n",
    "\n",
    "        self.critic_local = Critic(2 * state_size, 2 * action_size, embed_dim, seed).to(\n",
    "            device)\n",
    "        self.critic_target = Critic(2 * state_size, 2 * action_size, embed_dim, seed).to(\n",
    "            device)\n",
    "        self.critic_optimizer = optim.Adam(self.critic_local.parameters(), lr=lr)\n",
    "```\n",
    "\n",
    "### 2.2 Time-Correlated Replay Buffer\n",
    "In the last two project, we often save one step experience like (S, A, R, S') to the replay buffer, and then randomly sample a batch from the replay buffer to train the agent. This implementation may suit for one-step TD update algorithm. However, whatif we want to implement n-step TD($\\gamma$) algorithm to better trade off the bias and variance of the estamation of the Q value. So in my case, I implement a time-correlated replay buffer, which imply that the agent save a continuous episode at a time in the replay buffer, and then sample the whole experiences at the training time to train the model. Note, in my implementation, I find it is good enough to train the model using one-step TD learning, so n-step TD learning can be the future work, which may perform better.\n",
    "\n",
    "### 2.3 Hyperparameters\n",
    "\n",
    "#### Ornstein-Uhlenbeck process\n",
    "I addressed the exploration and exploitation dilemma using the Ornstein-Uhlenbeck process, which add a certain noise to the action at each timestep. The characteristic of the OU process is that its noise is dependent on the previous timestep, which is infected by three parameters:\n",
    "\n",
    "1) $\\mu$: the long-running mean. Default: 0\n",
    "\n",
    "2) $\\theta$: the speed of mean reversion. Default: 0.15\n",
    "\n",
    "3) $\\sigma$: the volatility parameter. Default: 0.2\n",
    "\n",
    "Furthermore, we linearly decay the noise for more exploitation and less exploration throungh the training process. \n",
    "\n",
    "```python\n",
    "EPS_START = 5.0   # initial value for epsilon in noise decay process in Agent.act()\n",
    "EPS_EP_END = 500  # episode to end the noise decay process\n",
    "EPS_FINAL = 0     # final value for epsilon after decay\n",
    "```\n",
    "#### Other hyperparameters\n",
    "```python\n",
    "BATCH_SIZE = 16         # Batch size of training samples.\n",
    "EMBED_DIM = 256         # Embed size of the agent.\n",
    "NUM_EPISODES = 2500     # Maximum training episodes.\n",
    "LOG_INTERVAL = 128      # The interval to print the average scores\n",
    "LEARN_NUM = 16          # Learning times at each episode.\n",
    "BUFFER_SIZE = int(1e6)  # The buffer size of the replay buffer.\n",
    "```"
   ]
  },
  {
   "cell_type": "markdown",
   "metadata": {},
   "source": [
    "## 3. Experimental Results"
   ]
  },
  {
   "cell_type": "code",
   "execution_count": 1,
   "metadata": {},
   "outputs": [
    {
     "data": {
      "image/png": "[encoded data removed]",
      "text/plain": [
       "<Figure size 432x288 with 1 Axes>"
      ]
     },
     "metadata": {},
     "output_type": "display_data"
    },
    {
     "name": "stdout",
     "output_type": "stream",
     "text": [
      "The maximum average scores is 1.60\n"
     ]
    }
   ],
   "source": [
    "import pandas as pd\n",
    "import numpy as np\n",
    "import matplotlib.pyplot as plt\n",
    "import seaborn as sns\n",
    "sns.set_style('darkgrid')\n",
    "\n",
    "\n",
    "# Load experimental results.\n",
    "scores = pd.read_csv('MADDPG_max_scores.csv')['0'].values\n",
    "\n",
    "# Visualize the return curve.\n",
    "avg_scores = []\n",
    "for i in range(100, len(scores)):\n",
    "    avg_scores.append(np.mean(scores[i-100:i]))\n",
    "    \n",
    "plt.plot(scores)\n",
    "plt.plot(avg_scores)\n",
    "plt.grid(True)\n",
    "plt.show()\n",
    "\n",
    "# Analize the results.\n",
    "print(f'The maximum average scores is {np.max(avg_scores):.2f}')"
   ]
  },
  {
   "cell_type": "markdown",
   "metadata": {},
   "source": [
    "From the figure, we can see that our agent accomplished an average score of 1.60. And it first hit an average score of +0.5 at around 2000 episodes. To this end, we solve this task!"
   ]
  },
  {
   "cell_type": "markdown",
   "metadata": {},
   "source": [
    "## Future work\n",
    "**1. N-step TD Learning**\n",
    "\n",
    "I have implemented a time time-correlated replay buffer, so I can use a n-step return to estimate the value funciton, which may find a better trade off between bias and variance than one-step return. Here is the definition of the n-step return:\n",
    "\n",
    "$G_{t:t+n}=R_t + \\gamma R_{t+1} + ... + \\gamma^{n-1} R_{t+n} + \\gamma^{n} V_{t+n}$\n",
    "\n",
    "**2. Prioritized Experience Replay**\n",
    "\n",
    "Instead of sample experiences randomly, we can perform prioritized experience replay (PER). PER samples the experiences depending on their importance, which is correlated to the TD-error. The higher the TD-error, the more likely it is to be sampled. Therefore, by performing the PER, the agent may become more efficient to learn in environment."
   ]
  },
  {
   "cell_type": "markdown",
   "metadata": {},
   "source": [
    "# Visualization of Agent Play Tennis"
   ]
  },
  {
   "cell_type": "code",
   "execution_count": 2,
   "metadata": {},
   "outputs": [
    {
     "name": "stderr",
     "output_type": "stream",
     "text": [
      "INFO:unityagents:\n",
      "'Academy' started successfully!\n",
      "Unity Academy name: Academy\n",
      "        Number of Brains: 1\n",
      "        Number of External Brains : 1\n",
      "        Lesson number : 0\n",
      "        Reset Parameters :\n",
      "\t\t\n",
      "Unity brain name: TennisBrain\n",
      "        Number of Visual Observations (per agent): 0\n",
      "        Vector Observation space type: continuous\n",
      "        Vector Observation space size (per agent): 8\n",
      "        Number of stacked Vector Observation: 3\n",
      "        Vector Action space type: continuous\n",
      "        Vector Action space size (per agent): 2\n",
      "        Vector Action descriptions: , \n"
     ]
    },
    {
     "name": "stdout",
     "output_type": "stream",
     "text": [
      "Number of agents: 2\n",
      "Size of each action: 2\n",
      "There are 2 agents. Each observes a state with length: 24\n",
      "The state for the first agent looks like: [ 0.          0.          0.          0.          0.          0.\n",
      "  0.          0.          0.          0.          0.          0.\n",
      "  0.          0.          0.          0.         -6.65278625 -1.5\n",
      " -0.          0.          6.83172083  6.         -0.          0.        ]\n"
     ]
    }
   ],
   "source": [
    "from unityagents import UnityEnvironment\n",
    "import numpy as np\n",
    "\n",
    "env = UnityEnvironment(file_name=\"./Tennis.app\")\n",
    "\n",
    "# get the default brain\n",
    "brain_name = env.brain_names[0]\n",
    "brain = env.brains[brain_name]\n",
    "# reset the environment\n",
    "env_info = env.reset(train_mode=True)[brain_name]\n",
    "\n",
    "# number of agents \n",
    "num_agents = len(env_info.agents)\n",
    "print('Number of agents:', num_agents)\n",
    "\n",
    "# size of each action\n",
    "action_size = brain.vector_action_space_size\n",
    "print('Size of each action:', action_size)\n",
    "\n",
    "# examine the state space \n",
    "states = env_info.vector_observations\n",
    "state_size = states.shape[1]\n",
    "print('There are {} agents. Each observes a state with length: {}'.format(states.shape[0], state_size))\n",
    "print('The state for the first agent looks like:', states[0])\n"
   ]
  },
  {
   "cell_type": "code",
   "execution_count": 3,
   "metadata": {},
   "outputs": [
    {
     "data": {
      "text/plain": [
       "<All keys matched successfully>"
      ]
     },
     "execution_count": 3,
     "metadata": {},
     "output_type": "execute_result"
    }
   ],
   "source": [
    "%load_ext autoreload\n",
    "%autoreload 2\n",
    "from model import Agent\n",
    "from tqdm import tqdm\n",
    "import torch\n",
    "\n",
    "BATCH_SIZE = 16         # Batch size of training samples.\n",
    "EMBED_DIM = 256         # Embed size of the agent.\n",
    "NUM_EPISODES = 2500     # Maximum training episodes.\n",
    "LOG_INTERVAL = 128      # The interval to print the average scores\n",
    "LEARN_NUM = 16          # Learning times at each episode.\n",
    "BUFFER_SIZE = int(1e6)  # The buffer size of the replay buffer.\n",
    "\n",
    "agent = Agent(state_size, action_size, buffer_size=BUFFER_SIZE)\n",
    "ckpt = torch.load('./MADDPG.ckpt')\n",
    "agent.load_state_dict(ckpt['agent'])"
   ]
  },
  {
   "cell_type": "code",
   "execution_count": null,
   "metadata": {},
   "outputs": [
    {
     "name": "stderr",
     "output_type": "stream",
     "text": [
      " 60%|██████    | 3/5 [02:59<01:55, 57.95s/it]"
     ]
    }
   ],
   "source": [
    "NUM_EPISODES = 5\n",
    "\n",
    "with tqdm(total=NUM_EPISODES) as pbar:\n",
    "    for i_episode in range(NUM_EPISODES):\n",
    "        pbar.update(1)\n",
    "        env_info = env.reset(train_mode=False)[brain_name]     # reset the environment    \n",
    "        states = env_info.vector_observations                  # get the current state (for each agent)\n",
    "        scores = np.zeros(num_agents)                          # initialize the score (for each agent)\n",
    "        while True:\n",
    "            actions = agent.act(states, isnoise=False)         # select an action (for each agent)\n",
    "            env_info = env.step(actions)[brain_name]           # send all actions to tne environment\n",
    "            next_states = env_info.vector_observations         # get next state (for each agent)\n",
    "            rewards = np.array(env_info.rewards)               # get reward (for each agent)\n",
    "            dones = np.array(env_info.local_done)              # see if episode finished\n",
    "            scores += env_info.rewards                         # update the score (for each agent)\n",
    "            \n",
    "            states = next_states\n",
    "            if np.any(dones):                                  # exit loop if episode finished\n",
    "                break"
   ]
  },
  {
   "cell_type": "markdown",
   "metadata": {},
   "source": [
    "<img src=\"figure/MultiAgentPlayTennis.gif\" width=\"70%\" align=\"top-left\" alt=\"\" title=\"Robot Ping Pong\" />"
   ]
  },
  {
   "cell_type": "code",
   "execution_count": null,
   "metadata": {},
   "outputs": [],
   "source": []
  }
 ],
 "metadata": {
  "kernelspec": {
   "display_name": "Python 3",
   "language": "python",
   "name": "python3"
  },
  "language_info": {
   "codemirror_mode": {
    "name": "ipython",
    "version": 3
   },
   "file_extension": ".py",
   "mimetype": "text/x-python",
   "name": "python",
   "nbconvert_exporter": "python",
   "pygments_lexer": "ipython3",
   "version": "3.6.10"
  }
 },
 "nbformat": 4,
 "nbformat_minor": 4
}
