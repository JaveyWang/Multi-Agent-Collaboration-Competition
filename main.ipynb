{
 "cells": [
  {
   "cell_type": "code",
   "execution_count": 1,
   "metadata": {},
   "outputs": [],
   "source": [
    "from unityagents import UnityEnvironment\n",
    "import numpy as np"
   ]
  },
  {
   "cell_type": "code",
   "execution_count": 2,
   "metadata": {},
   "outputs": [
    {
     "name": "stderr",
     "output_type": "stream",
     "text": [
      "INFO:unityagents:\n",
      "'Academy' started successfully!\n",
      "Unity Academy name: Academy\n",
      "        Number of Brains: 1\n",
      "        Number of External Brains : 1\n",
      "        Lesson number : 0\n",
      "        Reset Parameters :\n",
      "\t\t\n",
      "Unity brain name: TennisBrain\n",
      "        Number of Visual Observations (per agent): 0\n",
      "        Vector Observation space type: continuous\n",
      "        Vector Observation space size (per agent): 8\n",
      "        Number of stacked Vector Observation: 3\n",
      "        Vector Action space type: continuous\n",
      "        Vector Action space size (per agent): 2\n",
      "        Vector Action descriptions: , \n"
     ]
    }
   ],
   "source": [
    "env = UnityEnvironment(file_name=\"./Tennis.app\")"
   ]
  },
  {
   "cell_type": "code",
   "execution_count": 3,
   "metadata": {},
   "outputs": [],
   "source": [
    "# get the default brain\n",
    "brain_name = env.brain_names[0]\n",
    "brain = env.brains[brain_name]"
   ]
  },
  {
   "cell_type": "code",
   "execution_count": 4,
   "metadata": {},
   "outputs": [
    {
     "name": "stdout",
     "output_type": "stream",
     "text": [
      "Number of agents: 2\n",
      "Size of each action: 2\n",
      "There are 2 agents. Each observes a state with length: 24\n",
      "The state for the first agent looks like: [ 0.          0.          0.          0.          0.          0.\n",
      "  0.          0.          0.          0.          0.          0.\n",
      "  0.          0.          0.          0.         -6.65278625 -1.5\n",
      " -0.          0.          6.83172083  6.         -0.          0.        ]\n"
     ]
    }
   ],
   "source": [
    "# reset the environment\n",
    "env_info = env.reset(train_mode=True)[brain_name]\n",
    "\n",
    "# number of agents \n",
    "num_agents = len(env_info.agents)\n",
    "print('Number of agents:', num_agents)\n",
    "\n",
    "# size of each action\n",
    "action_size = brain.vector_action_space_size\n",
    "print('Size of each action:', action_size)\n",
    "\n",
    "# examine the state space \n",
    "states = env_info.vector_observations\n",
    "state_size = states.shape[1]\n",
    "print('There are {} agents. Each observes a state with length: {}'.format(states.shape[0], state_size))\n",
    "print('The state for the first agent looks like:', states[0])"
   ]
  },
  {
   "cell_type": "code",
   "execution_count": 17,
   "metadata": {},
   "outputs": [
    {
     "name": "stdout",
     "output_type": "stream",
     "text": [
      "The autoreload extension is already loaded. To reload it, use:\n",
      "  %reload_ext autoreload\n"
     ]
    }
   ],
   "source": [
    "%load_ext autoreload\n",
    "%autoreload 2\n",
    "from model import Agent\n",
    "from tqdm import tqdm\n",
    "import torch"
   ]
  },
  {
   "cell_type": "code",
   "execution_count": 18,
   "metadata": {},
   "outputs": [],
   "source": [
    "BATCH_SIZE = 16         # Batch size of training samples.\n",
    "EMBED_DIM = 256         # Embed size of the agent.\n",
    "NUM_EPISODES = 2500     # Maximum training episodes.\n",
    "LOG_INTERVAL = 128      # The interval to print the average scores\n",
    "LEARN_NUM = 16          # Learning times at each episode.\n",
    "BUFFER_SIZE = int(1e6)  # The buffer size of the replay buffer.\n",
    "\n",
    "agent = Agent(state_size, action_size, buffer_size=BUFFER_SIZE)\n",
    "best_scores = 0.5\n",
    "max_scores = []\n",
    "avg_scores = []"
   ]
  },
  {
   "cell_type": "code",
   "execution_count": 21,
   "metadata": {
    "collapsed": true
   },
   "outputs": [
    {
     "name": "stderr",
     "output_type": "stream",
     "text": [
      "  2%|▏         | 66/3360 [00:15<23:39,  2.32it/s]"
     ]
    },
    {
     "name": "stdout",
     "output_type": "stream",
     "text": [
      "q_value: 0.05567, critic_loss: 0.00006, actor_loss: -0.02189 \n",
      "q_value: 0.02168, critic_loss: 0.00000, actor_loss: 0.00562 \n",
      "q_value: 0.06473, critic_loss: 0.00009, actor_loss: -0.04705 \n",
      "q_value: 0.01539, critic_loss: 0.00000, actor_loss: 0.00636 \n",
      "q_value: 0.05922, critic_loss: 0.00004, actor_loss: -0.03680 \n",
      "q_value: 0.02666, critic_loss: 0.00001, actor_loss: 0.00521 \n",
      "q_value: 0.05790, critic_loss: 0.00006, actor_loss: -0.03073 \n",
      "q_value: 0.02057, critic_loss: 0.00006, actor_loss: 0.00262 \n",
      "q_value: 0.05745, critic_loss: 0.00004, actor_loss: -0.02777 \n",
      "q_value: 0.03192, critic_loss: 0.00001, actor_loss: 0.00593 \n",
      "q_value: 0.07024, critic_loss: 0.00008, actor_loss: -0.02965 \n",
      "q_value: 0.03027, critic_loss: 0.00001, actor_loss: 0.00249 \n",
      "q_value: 0.05931, critic_loss: 0.00008, actor_loss: -0.03349 \n",
      "q_value: 0.02977, critic_loss: 0.00001, actor_loss: 0.00351 \n",
      "q_value: 0.06574, critic_loss: 0.00006, actor_loss: -0.04921 \n",
      "q_value: 0.02432, critic_loss: 0.00000, actor_loss: 0.00581 \n",
      "q_value: 0.06634, critic_loss: 0.00008, actor_loss: -0.03712 \n",
      "q_value: 0.02765, critic_loss: 0.00001, actor_loss: 0.00398 \n",
      "q_value: 0.06666, critic_loss: 0.00006, actor_loss: -0.03934 \n"
     ]
    },
    {
     "name": "stderr",
     "output_type": "stream",
     "text": [
      "\r",
      "  2%|▏         | 67/3360 [00:15<23:20,  2.35it/s]"
     ]
    },
    {
     "name": "stdout",
     "output_type": "stream",
     "text": [
      "q_value: 0.02518, critic_loss: 0.00001, actor_loss: 0.00678 \n",
      "q_value: 0.06437, critic_loss: 0.00008, actor_loss: -0.04300 \n",
      "q_value: 0.03345, critic_loss: 0.00004, actor_loss: 0.00668 \n",
      "q_value: 0.06717, critic_loss: 0.00008, actor_loss: -0.02732 \n",
      "q_value: 0.03301, critic_loss: 0.00001, actor_loss: 0.00305 \n",
      "q_value: 0.06791, critic_loss: 0.00008, actor_loss: -0.03483 \n",
      "q_value: 0.02542, critic_loss: 0.00002, actor_loss: 0.00356 \n",
      "q_value: 0.07142, critic_loss: 0.00007, actor_loss: -0.03212 \n",
      "q_value: 0.02373, critic_loss: 0.00000, actor_loss: 0.00606 \n",
      "q_value: 0.06711, critic_loss: 0.00006, actor_loss: -0.02701 \n",
      "q_value: 0.03613, critic_loss: 0.00002, actor_loss: 0.00436 \n",
      "q_value: 0.05616, critic_loss: 0.00003, actor_loss: -0.02960 \n",
      "q_value: 0.02010, critic_loss: 0.00000, actor_loss: 0.00574 \n"
     ]
    },
    {
     "name": "stderr",
     "output_type": "stream",
     "text": [
      "  4%|▍         | 130/3360 [00:41<22:15,  2.42it/s]"
     ]
    },
    {
     "name": "stdout",
     "output_type": "stream",
     "text": [
      "\r",
      "Episode 128\tAverage Score: 0.03\n"
     ]
    },
    {
     "name": "stderr",
     "output_type": "stream",
     "text": [
      "  6%|▌         | 194/3360 [01:08<22:31,  2.34it/s]"
     ]
    },
    {
     "name": "stdout",
     "output_type": "stream",
     "text": [
      "q_value: 0.05802, critic_loss: 0.00006, actor_loss: -0.03166 \n",
      "q_value: 0.01949, critic_loss: 0.00003, actor_loss: -0.00262 \n",
      "q_value: 0.06439, critic_loss: 0.00005, actor_loss: -0.02263 \n",
      "q_value: 0.01074, critic_loss: 0.00001, actor_loss: 0.00259 \n",
      "q_value: 0.06790, critic_loss: 0.00005, actor_loss: -0.01985 \n",
      "q_value: 0.01420, critic_loss: 0.00000, actor_loss: 0.00199 \n",
      "q_value: 0.06597, critic_loss: 0.00010, actor_loss: -0.03317 \n",
      "q_value: 0.01595, critic_loss: 0.00001, actor_loss: 0.00112 \n",
      "q_value: 0.06345, critic_loss: 0.00007, actor_loss: -0.04284 \n",
      "q_value: 0.01432, critic_loss: 0.00002, actor_loss: 0.00191 \n",
      "q_value: 0.05535, critic_loss: 0.00002, actor_loss: -0.02553 \n",
      "q_value: 0.01123, critic_loss: 0.00001, actor_loss: 0.00339 \n",
      "q_value: 0.07246, critic_loss: 0.00006, actor_loss: -0.03785 \n",
      "q_value: 0.00896, critic_loss: 0.00001, actor_loss: 0.00436 \n",
      "q_value: 0.06563, critic_loss: 0.00006, actor_loss: -0.03413 \n",
      "q_value: 0.02042, critic_loss: 0.00002, actor_loss: 0.00102 \n",
      "q_value: 0.06971, critic_loss: 0.00009, actor_loss: -0.04797 \n"
     ]
    },
    {
     "name": "stderr",
     "output_type": "stream",
     "text": [
      "\r",
      "  6%|▌         | 195/3360 [01:08<22:26,  2.35it/s]"
     ]
    },
    {
     "name": "stdout",
     "output_type": "stream",
     "text": [
      "q_value: 0.01221, critic_loss: 0.00002, actor_loss: 0.00104 \n",
      "q_value: 0.06121, critic_loss: 0.00003, actor_loss: -0.02318 \n",
      "q_value: 0.01508, critic_loss: 0.00002, actor_loss: 0.00195 \n",
      "q_value: 0.06982, critic_loss: 0.00007, actor_loss: -0.03562 \n",
      "q_value: 0.00100, critic_loss: 0.00000, actor_loss: 0.00334 \n",
      "q_value: 0.06422, critic_loss: 0.00007, actor_loss: -0.01902 \n",
      "q_value: 0.01481, critic_loss: 0.00002, actor_loss: 0.00052 \n",
      "q_value: 0.06613, critic_loss: 0.00004, actor_loss: -0.02821 \n",
      "q_value: 0.01608, critic_loss: 0.00002, actor_loss: 0.00136 \n",
      "q_value: 0.05410, critic_loss: 0.00005, actor_loss: -0.02426 \n",
      "q_value: 0.01431, critic_loss: 0.00001, actor_loss: 0.00097 \n",
      "q_value: 0.05505, critic_loss: 0.00002, actor_loss: -0.01400 \n",
      "q_value: 0.01321, critic_loss: 0.00002, actor_loss: -0.00097 \n",
      "q_value: 0.07128, critic_loss: 0.00004, actor_loss: -0.01626 \n",
      "q_value: 0.01541, critic_loss: 0.00001, actor_loss: 0.00218 \n"
     ]
    },
    {
     "name": "stderr",
     "output_type": "stream",
     "text": [
      "  8%|▊         | 258/3360 [01:34<21:21,  2.42it/s]"
     ]
    },
    {
     "name": "stdout",
     "output_type": "stream",
     "text": [
      "\r",
      "Episode 256\tAverage Score: 0.02\n"
     ]
    },
    {
     "name": "stderr",
     "output_type": "stream",
     "text": [
      " 10%|▉         | 322/3360 [02:01<20:25,  2.48it/s]"
     ]
    },
    {
     "name": "stdout",
     "output_type": "stream",
     "text": [
      "q_value: 0.05542, critic_loss: 0.00004, actor_loss: -0.01760 \n",
      "q_value: 0.00553, critic_loss: 0.00001, actor_loss: 0.00379 \n",
      "q_value: 0.05473, critic_loss: 0.00005, actor_loss: -0.01587 \n",
      "q_value: 0.01046, critic_loss: 0.00003, actor_loss: -0.00178 \n",
      "q_value: 0.05708, critic_loss: 0.00004, actor_loss: -0.02671 \n",
      "q_value: 0.00889, critic_loss: 0.00002, actor_loss: 0.00223 \n",
      "q_value: 0.06780, critic_loss: 0.00004, actor_loss: -0.02536 \n",
      "q_value: 0.00845, critic_loss: 0.00003, actor_loss: -0.00022 \n",
      "q_value: 0.05943, critic_loss: 0.00005, actor_loss: -0.02816 \n",
      "q_value: 0.01112, critic_loss: 0.00002, actor_loss: 0.00039 \n",
      "q_value: 0.07198, critic_loss: 0.00004, actor_loss: -0.05127 \n",
      "q_value: 0.00880, critic_loss: 0.00003, actor_loss: 0.00248 \n",
      "q_value: 0.05568, critic_loss: 0.00006, actor_loss: -0.02292 \n",
      "q_value: 0.01009, critic_loss: 0.00002, actor_loss: -0.00005 \n",
      "q_value: 0.06213, critic_loss: 0.00003, actor_loss: -0.01617 \n",
      "q_value: 0.01197, critic_loss: 0.00001, actor_loss: -0.00008 \n",
      "q_value: 0.07112, critic_loss: 0.00011, actor_loss: -0.01880 \n",
      "q_value: 0.00734, critic_loss: 0.00001, actor_loss: 0.00293 \n",
      "q_value: 0.07067, critic_loss: 0.00017, actor_loss: -0.03419 \n"
     ]
    },
    {
     "name": "stderr",
     "output_type": "stream",
     "text": [
      "\r",
      " 10%|▉         | 323/3360 [02:01<20:09,  2.51it/s]"
     ]
    },
    {
     "name": "stdout",
     "output_type": "stream",
     "text": [
      "q_value: 0.01030, critic_loss: 0.00002, actor_loss: 0.00025 \n",
      "q_value: 0.03999, critic_loss: 0.00005, actor_loss: -0.03828 \n",
      "q_value: 0.01305, critic_loss: 0.00002, actor_loss: 0.00100 \n",
      "q_value: 0.05976, critic_loss: 0.00004, actor_loss: -0.02405 \n",
      "q_value: 0.01508, critic_loss: 0.00003, actor_loss: 0.00209 \n",
      "q_value: 0.06547, critic_loss: 0.00006, actor_loss: -0.03720 \n",
      "q_value: 0.01180, critic_loss: 0.00001, actor_loss: -0.00014 \n",
      "q_value: 0.05589, critic_loss: 0.00007, actor_loss: -0.02147 \n",
      "q_value: 0.00644, critic_loss: 0.00001, actor_loss: 0.00524 \n",
      "q_value: 0.06631, critic_loss: 0.00006, actor_loss: -0.03409 \n",
      "q_value: 0.01154, critic_loss: 0.00002, actor_loss: -0.00414 \n",
      "q_value: 0.06904, critic_loss: 0.00008, actor_loss: -0.02755 \n",
      "q_value: 0.00937, critic_loss: 0.00001, actor_loss: 0.00039 \n"
     ]
    },
    {
     "name": "stderr",
     "output_type": "stream",
     "text": [
      " 11%|█▏        | 386/3360 [02:27<20:15,  2.45it/s]"
     ]
    },
    {
     "name": "stdout",
     "output_type": "stream",
     "text": [
      "\r",
      "Episode 384\tAverage Score: 0.03\n"
     ]
    },
    {
     "name": "stderr",
     "output_type": "stream",
     "text": [
      " 13%|█▎        | 450/3360 [02:55<20:50,  2.33it/s]"
     ]
    },
    {
     "name": "stdout",
     "output_type": "stream",
     "text": [
      "q_value: 0.06570, critic_loss: 0.00002, actor_loss: -0.02497 \n",
      "q_value: 0.03579, critic_loss: 0.00004, actor_loss: -0.02526 \n",
      "q_value: 0.07249, critic_loss: 0.00005, actor_loss: -0.04658 \n",
      "q_value: 0.02924, critic_loss: 0.00002, actor_loss: -0.01504 \n",
      "q_value: 0.08258, critic_loss: 0.00005, actor_loss: -0.03522 \n",
      "q_value: 0.02570, critic_loss: 0.00002, actor_loss: -0.00919 \n",
      "q_value: 0.06916, critic_loss: 0.00006, actor_loss: -0.03825 \n",
      "q_value: 0.03376, critic_loss: 0.00002, actor_loss: -0.01189 \n",
      "q_value: 0.06857, critic_loss: 0.00003, actor_loss: -0.03707 \n",
      "q_value: 0.03496, critic_loss: 0.00002, actor_loss: -0.01729 \n",
      "q_value: 0.07829, critic_loss: 0.00003, actor_loss: -0.02773 \n",
      "q_value: 0.03101, critic_loss: 0.00003, actor_loss: -0.00884 \n",
      "q_value: 0.07209, critic_loss: 0.00009, actor_loss: -0.03902 \n",
      "q_value: 0.03129, critic_loss: 0.00002, actor_loss: -0.01488 \n",
      "q_value: 0.06508, critic_loss: 0.00001, actor_loss: -0.02523 \n",
      "q_value: 0.02881, critic_loss: 0.00003, actor_loss: -0.01637 \n",
      "q_value: 0.07311, critic_loss: 0.00009, actor_loss: -0.02884 \n",
      "q_value: 0.03215, critic_loss: 0.00005, actor_loss: -0.01596 \n",
      "q_value: 0.08448, critic_loss: 0.00007, actor_loss: -0.04790 \n"
     ]
    },
    {
     "name": "stderr",
     "output_type": "stream",
     "text": [
      "\r",
      " 13%|█▎        | 451/3360 [02:55<21:15,  2.28it/s]"
     ]
    },
    {
     "name": "stdout",
     "output_type": "stream",
     "text": [
      "q_value: 0.03344, critic_loss: 0.00004, actor_loss: -0.01585 \n",
      "q_value: 0.06219, critic_loss: 0.00003, actor_loss: -0.02737 \n",
      "q_value: 0.02679, critic_loss: 0.00002, actor_loss: -0.00907 \n",
      "q_value: 0.06382, critic_loss: 0.00006, actor_loss: -0.04008 \n",
      "q_value: 0.03269, critic_loss: 0.00002, actor_loss: -0.01624 \n",
      "q_value: 0.07126, critic_loss: 0.00004, actor_loss: -0.02586 \n",
      "q_value: 0.02626, critic_loss: 0.00002, actor_loss: -0.01069 \n",
      "q_value: 0.08265, critic_loss: 0.00005, actor_loss: -0.04867 \n",
      "q_value: 0.03430, critic_loss: 0.00004, actor_loss: -0.01578 \n",
      "q_value: 0.07473, critic_loss: 0.00006, actor_loss: -0.02228 \n",
      "q_value: 0.03747, critic_loss: 0.00005, actor_loss: -0.01432 \n",
      "q_value: 0.06711, critic_loss: 0.00003, actor_loss: -0.03431 \n",
      "q_value: 0.03174, critic_loss: 0.00002, actor_loss: -0.01059 \n"
     ]
    },
    {
     "name": "stderr",
     "output_type": "stream",
     "text": [
      " 15%|█▌        | 514/3360 [03:23<19:45,  2.40it/s]"
     ]
    },
    {
     "name": "stdout",
     "output_type": "stream",
     "text": [
      "\r",
      "Episode 512\tAverage Score: 0.05\n"
     ]
    },
    {
     "name": "stderr",
     "output_type": "stream",
     "text": [
      " 17%|█▋        | 578/3360 [03:52<20:54,  2.22it/s]"
     ]
    },
    {
     "name": "stdout",
     "output_type": "stream",
     "text": [
      "q_value: 0.07131, critic_loss: 0.00004, actor_loss: -0.02945 \n",
      "q_value: 0.04231, critic_loss: 0.00008, actor_loss: -0.04156 \n",
      "q_value: 0.08464, critic_loss: 0.00007, actor_loss: -0.04430 \n",
      "q_value: 0.04683, critic_loss: 0.00008, actor_loss: -0.04828 \n",
      "q_value: 0.08301, critic_loss: 0.00004, actor_loss: -0.05045 \n",
      "q_value: 0.03609, critic_loss: 0.00006, actor_loss: -0.03021 \n",
      "q_value: 0.07876, critic_loss: 0.00004, actor_loss: -0.04314 \n",
      "q_value: 0.03107, critic_loss: 0.00003, actor_loss: -0.02097 \n",
      "q_value: 0.07724, critic_loss: 0.00006, actor_loss: -0.03826 \n",
      "q_value: 0.03737, critic_loss: 0.00005, actor_loss: -0.02974 \n",
      "q_value: 0.06685, critic_loss: 0.00003, actor_loss: -0.02601 \n",
      "q_value: 0.03961, critic_loss: 0.00005, actor_loss: -0.02476 \n",
      "q_value: 0.07362, critic_loss: 0.00004, actor_loss: -0.02868 \n",
      "q_value: 0.02352, critic_loss: 0.00004, actor_loss: -0.01448 \n",
      "q_value: 0.06212, critic_loss: 0.00006, actor_loss: -0.03125 \n",
      "q_value: 0.04219, critic_loss: 0.00007, actor_loss: -0.03475 \n",
      "q_value: 0.06454, critic_loss: 0.00005, actor_loss: -0.03110 \n"
     ]
    },
    {
     "name": "stderr",
     "output_type": "stream",
     "text": [
      "\r",
      " 17%|█▋        | 579/3360 [03:52<20:34,  2.25it/s]"
     ]
    },
    {
     "name": "stdout",
     "output_type": "stream",
     "text": [
      "q_value: 0.04499, critic_loss: 0.00006, actor_loss: -0.04652 \n",
      "q_value: 0.05915, critic_loss: 0.00004, actor_loss: -0.02296 \n",
      "q_value: 0.03855, critic_loss: 0.00006, actor_loss: -0.03723 \n",
      "q_value: 0.08033, critic_loss: 0.00006, actor_loss: -0.02549 \n",
      "q_value: 0.04119, critic_loss: 0.00007, actor_loss: -0.03048 \n",
      "q_value: 0.08219, critic_loss: 0.00006, actor_loss: -0.03442 \n",
      "q_value: 0.03613, critic_loss: 0.00004, actor_loss: -0.03220 \n",
      "q_value: 0.08467, critic_loss: 0.00005, actor_loss: -0.06294 \n",
      "q_value: 0.03630, critic_loss: 0.00006, actor_loss: -0.02643 \n",
      "q_value: 0.06299, critic_loss: 0.00004, actor_loss: -0.02454 \n",
      "q_value: 0.03964, critic_loss: 0.00006, actor_loss: -0.03790 \n",
      "q_value: 0.06675, critic_loss: 0.00002, actor_loss: -0.00989 \n",
      "q_value: 0.03908, critic_loss: 0.00004, actor_loss: -0.02409 \n",
      "q_value: 0.07161, critic_loss: 0.00005, actor_loss: -0.02436 \n",
      "q_value: 0.04635, critic_loss: 0.00007, actor_loss: -0.04980 \n"
     ]
    },
    {
     "name": "stderr",
     "output_type": "stream",
     "text": [
      " 19%|█▉        | 642/3360 [04:21<20:31,  2.21it/s]"
     ]
    },
    {
     "name": "stdout",
     "output_type": "stream",
     "text": [
      "\r",
      "Episode 640\tAverage Score: 0.07\n"
     ]
    },
    {
     "name": "stderr",
     "output_type": "stream",
     "text": [
      " 21%|██        | 706/3360 [04:50<20:01,  2.21it/s]"
     ]
    },
    {
     "name": "stdout",
     "output_type": "stream",
     "text": [
      "q_value: 0.06932, critic_loss: 0.00010, actor_loss: -0.03142 \n",
      "q_value: 0.04593, critic_loss: 0.00007, actor_loss: -0.02202 \n",
      "q_value: 0.07514, critic_loss: 0.00008, actor_loss: -0.04133 \n",
      "q_value: 0.05135, critic_loss: 0.00007, actor_loss: -0.04650 \n",
      "q_value: 0.05141, critic_loss: 0.00001, actor_loss: -0.01335 \n",
      "q_value: 0.04444, critic_loss: 0.00007, actor_loss: -0.03222 \n",
      "q_value: 0.07575, critic_loss: 0.00007, actor_loss: -0.04483 \n",
      "q_value: 0.04527, critic_loss: 0.00005, actor_loss: -0.03486 \n",
      "q_value: 0.06872, critic_loss: 0.00006, actor_loss: -0.04254 \n",
      "q_value: 0.04863, critic_loss: 0.00006, actor_loss: -0.03369 \n",
      "q_value: 0.05873, critic_loss: 0.00005, actor_loss: -0.03475 \n",
      "q_value: 0.04256, critic_loss: 0.00006, actor_loss: -0.02124 \n",
      "q_value: 0.05696, critic_loss: 0.00006, actor_loss: -0.03301 \n",
      "q_value: 0.04810, critic_loss: 0.00005, actor_loss: -0.03741 \n",
      "q_value: 0.06114, critic_loss: 0.00003, actor_loss: -0.03043 \n",
      "q_value: 0.05340, critic_loss: 0.00005, actor_loss: -0.03826 \n"
     ]
    },
    {
     "name": "stderr",
     "output_type": "stream",
     "text": [
      "\r",
      " 21%|██        | 707/3360 [04:50<20:37,  2.14it/s]"
     ]
    },
    {
     "name": "stdout",
     "output_type": "stream",
     "text": [
      "q_value: 0.06077, critic_loss: 0.00007, actor_loss: -0.03593 \n",
      "q_value: 0.04907, critic_loss: 0.00005, actor_loss: -0.03338 \n",
      "q_value: 0.07279, critic_loss: 0.00003, actor_loss: -0.03764 \n",
      "q_value: 0.04880, critic_loss: 0.00007, actor_loss: -0.03464 \n",
      "q_value: 0.07371, critic_loss: 0.00005, actor_loss: -0.04164 \n",
      "q_value: 0.05224, critic_loss: 0.00010, actor_loss: -0.04187 \n",
      "q_value: 0.06963, critic_loss: 0.00005, actor_loss: -0.03573 \n",
      "q_value: 0.04944, critic_loss: 0.00008, actor_loss: -0.02849 \n",
      "q_value: 0.06968, critic_loss: 0.00005, actor_loss: -0.04228 \n",
      "q_value: 0.04200, critic_loss: 0.00006, actor_loss: -0.03252 \n",
      "q_value: 0.06682, critic_loss: 0.00007, actor_loss: -0.03602 \n",
      "q_value: 0.04899, critic_loss: 0.00008, actor_loss: -0.02685 \n",
      "q_value: 0.06674, critic_loss: 0.00004, actor_loss: -0.02997 \n",
      "q_value: 0.04750, critic_loss: 0.00009, actor_loss: -0.02442 \n",
      "q_value: 0.06943, critic_loss: 0.00006, actor_loss: -0.04397 \n",
      "q_value: 0.04401, critic_loss: 0.00004, actor_loss: -0.02441 \n"
     ]
    },
    {
     "name": "stderr",
     "output_type": "stream",
     "text": [
      " 23%|██▎       | 770/3360 [05:20<20:04,  2.15it/s]"
     ]
    },
    {
     "name": "stdout",
     "output_type": "stream",
     "text": [
      "\r",
      "Episode 768\tAverage Score: 0.07\n"
     ]
    },
    {
     "name": "stderr",
     "output_type": "stream",
     "text": [
      " 25%|██▍       | 834/3360 [05:52<23:07,  1.82it/s]"
     ]
    },
    {
     "name": "stdout",
     "output_type": "stream",
     "text": [
      "q_value: 0.06878, critic_loss: 0.00005, actor_loss: -0.03214 \n",
      "q_value: 0.05646, critic_loss: 0.00009, actor_loss: -0.04616 \n",
      "q_value: 0.05873, critic_loss: 0.00005, actor_loss: -0.04094 \n",
      "q_value: 0.05518, critic_loss: 0.00011, actor_loss: -0.04804 \n",
      "q_value: 0.05802, critic_loss: 0.00003, actor_loss: -0.03437 \n",
      "q_value: 0.05713, critic_loss: 0.00009, actor_loss: -0.05116 \n",
      "q_value: 0.06577, critic_loss: 0.00006, actor_loss: -0.03754 \n",
      "q_value: 0.05336, critic_loss: 0.00010, actor_loss: -0.03669 \n",
      "q_value: 0.06281, critic_loss: 0.00007, actor_loss: -0.02879 \n",
      "q_value: 0.05680, critic_loss: 0.00017, actor_loss: -0.04574 \n",
      "q_value: 0.06032, critic_loss: 0.00003, actor_loss: -0.03196 \n",
      "q_value: 0.05184, critic_loss: 0.00006, actor_loss: -0.03684 \n",
      "q_value: 0.06876, critic_loss: 0.00005, actor_loss: -0.03247 \n",
      "q_value: 0.06225, critic_loss: 0.00014, actor_loss: -0.06292 \n",
      "q_value: 0.05575, critic_loss: 0.00005, actor_loss: -0.03342 \n",
      "q_value: 0.05868, critic_loss: 0.00015, actor_loss: -0.05776 \n"
     ]
    },
    {
     "name": "stderr",
     "output_type": "stream",
     "text": [
      "\r",
      " 25%|██▍       | 835/3360 [05:53<22:00,  1.91it/s]"
     ]
    },
    {
     "name": "stdout",
     "output_type": "stream",
     "text": [
      "q_value: 0.07076, critic_loss: 0.00007, actor_loss: -0.03281 \n",
      "q_value: 0.05375, critic_loss: 0.00009, actor_loss: -0.04677 \n",
      "q_value: 0.06800, critic_loss: 0.00005, actor_loss: -0.02685 \n",
      "q_value: 0.05226, critic_loss: 0.00009, actor_loss: -0.04505 \n",
      "q_value: 0.06117, critic_loss: 0.00003, actor_loss: -0.02817 \n",
      "q_value: 0.05442, critic_loss: 0.00012, actor_loss: -0.04028 \n",
      "q_value: 0.07679, critic_loss: 0.00006, actor_loss: -0.03519 \n",
      "q_value: 0.05040, critic_loss: 0.00008, actor_loss: -0.04130 \n",
      "q_value: 0.05842, critic_loss: 0.00003, actor_loss: -0.03431 \n",
      "q_value: 0.06188, critic_loss: 0.00012, actor_loss: -0.05224 \n",
      "q_value: 0.06100, critic_loss: 0.00006, actor_loss: -0.03999 \n",
      "q_value: 0.05051, critic_loss: 0.00006, actor_loss: -0.03855 \n",
      "q_value: 0.06806, critic_loss: 0.00005, actor_loss: -0.03888 \n",
      "q_value: 0.05792, critic_loss: 0.00009, actor_loss: -0.05650 \n",
      "q_value: 0.05768, critic_loss: 0.00003, actor_loss: -0.03542 \n",
      "q_value: 0.05518, critic_loss: 0.00007, actor_loss: -0.04928 \n"
     ]
    },
    {
     "name": "stderr",
     "output_type": "stream",
     "text": [
      " 27%|██▋       | 898/3360 [06:26<21:20,  1.92it/s]"
     ]
    },
    {
     "name": "stdout",
     "output_type": "stream",
     "text": [
      "\r",
      "Episode 896\tAverage Score: 0.10\n"
     ]
    },
    {
     "name": "stderr",
     "output_type": "stream",
     "text": [
      " 29%|██▊       | 962/3360 [07:02<22:01,  1.82it/s]"
     ]
    },
    {
     "name": "stdout",
     "output_type": "stream",
     "text": [
      "q_value: 0.08308, critic_loss: 0.00004, actor_loss: -0.01682 \n",
      "q_value: 0.04921, critic_loss: 0.00006, actor_loss: -0.05790 \n",
      "q_value: 0.05599, critic_loss: 0.00003, actor_loss: -0.02981 \n",
      "q_value: 0.04974, critic_loss: 0.00009, actor_loss: -0.04992 \n",
      "q_value: 0.05962, critic_loss: 0.00002, actor_loss: -0.02298 \n",
      "q_value: 0.04384, critic_loss: 0.00010, actor_loss: -0.03798 \n",
      "q_value: 0.07377, critic_loss: 0.00004, actor_loss: -0.02725 \n",
      "q_value: 0.05051, critic_loss: 0.00008, actor_loss: -0.05541 \n",
      "q_value: 0.07748, critic_loss: 0.00006, actor_loss: -0.04186 \n",
      "q_value: 0.04976, critic_loss: 0.00008, actor_loss: -0.05898 \n",
      "q_value: 0.07797, critic_loss: 0.00003, actor_loss: -0.03951 \n",
      "q_value: 0.04957, critic_loss: 0.00006, actor_loss: -0.05553 \n",
      "q_value: 0.07692, critic_loss: 0.00005, actor_loss: -0.04075 \n",
      "q_value: 0.05193, critic_loss: 0.00006, actor_loss: -0.05869 \n",
      "q_value: 0.06798, critic_loss: 0.00003, actor_loss: -0.03723 \n",
      "q_value: 0.05165, critic_loss: 0.00008, actor_loss: -0.05660 \n",
      "q_value: 0.09084, critic_loss: 0.00004, actor_loss: -0.03418 \n",
      "q_value: 0.04311, critic_loss: 0.00008, actor_loss: -0.04153 \n",
      "q_value: 0.06357, critic_loss: 0.00003, actor_loss: -0.02609 \n",
      "q_value: 0.05045, critic_loss: 0.00011, actor_loss: -0.05385 \n",
      "q_value: 0.08754, critic_loss: 0.00003, actor_loss: -0.02656 \n",
      "q_value: 0.04910, critic_loss: 0.00008, actor_loss: -0.05131 \n",
      "q_value: 0.09130, critic_loss: 0.00005, actor_loss: -0.03153 \n",
      "q_value: 0.04873, critic_loss: 0.00008, actor_loss: -0.05120 \n",
      "q_value: 0.07806, critic_loss: 0.00003, actor_loss: -0.02932 \n",
      "q_value: 0.04695, critic_loss: 0.00011, actor_loss: -0.05318 \n",
      "q_value: 0.08624, critic_loss: 0.00006, actor_loss: -0.03928 \n",
      "q_value: 0.04694, critic_loss: 0.00006, actor_loss: -0.05273 \n",
      "q_value: 0.08483, critic_loss: 0.00006, actor_loss: -0.03227 \n",
      "q_value: 0.04655, critic_loss: 0.00007, actor_loss: -0.04777 \n",
      "q_value: 0.08121, critic_loss: 0.00003, actor_loss: -0.02567 \n"
     ]
    },
    {
     "name": "stderr",
     "output_type": "stream",
     "text": [
      "\r",
      " 29%|██▊       | 963/3360 [07:03<21:43,  1.84it/s]"
     ]
    },
    {
     "name": "stdout",
     "output_type": "stream",
     "text": [
      "q_value: 0.04507, critic_loss: 0.00006, actor_loss: -0.04646 \n"
     ]
    },
    {
     "name": "stderr",
     "output_type": "stream",
     "text": [
      " 31%|███       | 1026/3360 [07:38<20:38,  1.89it/s]"
     ]
    },
    {
     "name": "stdout",
     "output_type": "stream",
     "text": [
      "\r",
      "Episode 1024\tAverage Score: 0.11\n"
     ]
    },
    {
     "name": "stderr",
     "output_type": "stream",
     "text": [
      " 31%|███       | 1045/3360 [07:48<27:15,  1.42it/s]"
     ]
    },
    {
     "name": "stdout",
     "output_type": "stream",
     "text": [
      "Save model successful.\n"
     ]
    },
    {
     "name": "stderr",
     "output_type": "stream",
     "text": [
      " 32%|███▏      | 1090/3360 [08:16<26:09,  1.45it/s]"
     ]
    },
    {
     "name": "stdout",
     "output_type": "stream",
     "text": [
      "q_value: 0.08047, critic_loss: 0.00003, actor_loss: -0.03290 \n",
      "q_value: 0.04711, critic_loss: 0.00010, actor_loss: -0.04510 \n",
      "q_value: 0.06470, critic_loss: 0.00003, actor_loss: -0.03454 \n",
      "q_value: 0.03994, critic_loss: 0.00008, actor_loss: -0.03418 \n",
      "q_value: 0.08239, critic_loss: 0.00003, actor_loss: -0.02619 \n",
      "q_value: 0.04285, critic_loss: 0.00003, actor_loss: -0.03680 \n",
      "q_value: 0.05910, critic_loss: 0.00005, actor_loss: -0.03302 \n",
      "q_value: 0.04835, critic_loss: 0.00007, actor_loss: -0.05052 \n",
      "q_value: 0.08942, critic_loss: 0.00004, actor_loss: -0.03998 \n",
      "q_value: 0.04480, critic_loss: 0.00007, actor_loss: -0.04031 \n",
      "q_value: 0.07476, critic_loss: 0.00005, actor_loss: -0.03617 \n",
      "q_value: 0.04578, critic_loss: 0.00006, actor_loss: -0.04576 \n",
      "q_value: 0.07110, critic_loss: 0.00004, actor_loss: -0.03678 \n",
      "q_value: 0.04326, critic_loss: 0.00005, actor_loss: -0.03423 \n",
      "q_value: 0.08211, critic_loss: 0.00005, actor_loss: -0.03003 \n",
      "q_value: 0.04641, critic_loss: 0.00009, actor_loss: -0.04999 \n",
      "q_value: 0.07218, critic_loss: 0.00003, actor_loss: -0.02698 \n",
      "q_value: 0.04725, critic_loss: 0.00003, actor_loss: -0.04848 \n",
      "q_value: 0.08233, critic_loss: 0.00003, actor_loss: -0.03027 \n",
      "q_value: 0.04546, critic_loss: 0.00007, actor_loss: -0.04354 \n",
      "q_value: 0.07816, critic_loss: 0.00003, actor_loss: -0.02673 \n",
      "q_value: 0.04795, critic_loss: 0.00009, actor_loss: -0.05148 \n",
      "q_value: 0.07411, critic_loss: 0.00004, actor_loss: -0.03456 \n",
      "q_value: 0.04746, critic_loss: 0.00006, actor_loss: -0.05148 \n",
      "q_value: 0.08732, critic_loss: 0.00005, actor_loss: -0.02652 \n",
      "q_value: 0.04694, critic_loss: 0.00005, actor_loss: -0.04819 \n",
      "q_value: 0.06765, critic_loss: 0.00005, actor_loss: -0.03291 \n",
      "q_value: 0.04663, critic_loss: 0.00009, actor_loss: -0.04930 \n",
      "q_value: 0.07773, critic_loss: 0.00004, actor_loss: -0.02901 \n",
      "q_value: 0.04330, critic_loss: 0.00005, actor_loss: -0.04147 \n"
     ]
    },
    {
     "name": "stderr",
     "output_type": "stream",
     "text": [
      "\r",
      " 32%|███▏      | 1091/3360 [08:16<25:52,  1.46it/s]"
     ]
    },
    {
     "name": "stdout",
     "output_type": "stream",
     "text": [
      "q_value: 0.07304, critic_loss: 0.00004, actor_loss: -0.02733 \n",
      "q_value: 0.04082, critic_loss: 0.00006, actor_loss: -0.03471 \n"
     ]
    },
    {
     "name": "stderr",
     "output_type": "stream",
     "text": [
      " 34%|███▍      | 1154/3360 [08:57<19:35,  1.88it/s]"
     ]
    },
    {
     "name": "stdout",
     "output_type": "stream",
     "text": [
      "\r",
      "Episode 1152\tAverage Score: 0.15\n"
     ]
    },
    {
     "name": "stderr",
     "output_type": "stream",
     "text": [
      " 36%|███▌      | 1195/3360 [09:24<34:39,  1.04it/s]"
     ]
    },
    {
     "name": "stdout",
     "output_type": "stream",
     "text": [
      "Save model successful.\n"
     ]
    },
    {
     "name": "stderr",
     "output_type": "stream",
     "text": [
      " 36%|███▋      | 1218/3360 [09:41<25:16,  1.41it/s]"
     ]
    },
    {
     "name": "stdout",
     "output_type": "stream",
     "text": [
      "q_value: 0.07943, critic_loss: 0.00007, actor_loss: -0.04224 \n",
      "q_value: 0.04757, critic_loss: 0.00007, actor_loss: -0.04369 \n",
      "q_value: 0.06947, critic_loss: 0.00004, actor_loss: -0.03356 \n",
      "q_value: 0.04158, critic_loss: 0.00005, actor_loss: -0.03237 \n",
      "q_value: 0.07124, critic_loss: 0.00004, actor_loss: -0.01849 \n",
      "q_value: 0.04741, critic_loss: 0.00005, actor_loss: -0.03332 \n",
      "q_value: 0.06931, critic_loss: 0.00004, actor_loss: -0.02668 \n",
      "q_value: 0.05090, critic_loss: 0.00008, actor_loss: -0.04641 \n",
      "q_value: 0.07236, critic_loss: 0.00003, actor_loss: -0.04125 \n",
      "q_value: 0.05000, critic_loss: 0.00007, actor_loss: -0.04295 \n",
      "q_value: 0.06979, critic_loss: 0.00002, actor_loss: -0.03285 \n",
      "q_value: 0.05248, critic_loss: 0.00006, actor_loss: -0.05155 \n",
      "q_value: 0.07857, critic_loss: 0.00007, actor_loss: -0.03684 \n",
      "q_value: 0.05183, critic_loss: 0.00004, actor_loss: -0.03281 \n",
      "q_value: 0.07749, critic_loss: 0.00006, actor_loss: -0.03789 \n",
      "q_value: 0.04931, critic_loss: 0.00004, actor_loss: -0.03474 \n",
      "q_value: 0.07895, critic_loss: 0.00003, actor_loss: -0.03500 \n",
      "q_value: 0.05257, critic_loss: 0.00004, actor_loss: -0.05244 \n",
      "q_value: 0.07830, critic_loss: 0.00006, actor_loss: -0.03203 \n",
      "q_value: 0.05469, critic_loss: 0.00008, actor_loss: -0.06178 \n",
      "q_value: 0.07834, critic_loss: 0.00004, actor_loss: -0.04266 \n",
      "q_value: 0.05183, critic_loss: 0.00008, actor_loss: -0.04155 \n",
      "q_value: 0.07023, critic_loss: 0.00005, actor_loss: -0.02970 \n",
      "q_value: 0.04701, critic_loss: 0.00009, actor_loss: -0.03936 \n"
     ]
    },
    {
     "name": "stderr",
     "output_type": "stream",
     "text": [
      "\r",
      " 36%|███▋      | 1219/3360 [09:42<26:27,  1.35it/s]"
     ]
    },
    {
     "name": "stdout",
     "output_type": "stream",
     "text": [
      "q_value: 0.08499, critic_loss: 0.00006, actor_loss: -0.03735 \n",
      "q_value: 0.04651, critic_loss: 0.00003, actor_loss: -0.03537 \n",
      "q_value: 0.07175, critic_loss: 0.00002, actor_loss: -0.03113 \n",
      "q_value: 0.04402, critic_loss: 0.00007, actor_loss: -0.04110 \n",
      "q_value: 0.07487, critic_loss: 0.00005, actor_loss: -0.03357 \n",
      "q_value: 0.04068, critic_loss: 0.00005, actor_loss: -0.02825 \n",
      "q_value: 0.05981, critic_loss: 0.00005, actor_loss: -0.03090 \n",
      "q_value: 0.05048, critic_loss: 0.00010, actor_loss: -0.05211 \n"
     ]
    },
    {
     "name": "stderr",
     "output_type": "stream",
     "text": [
      " 38%|███▊      | 1267/3360 [10:19<46:15,  1.33s/it]"
     ]
    },
    {
     "name": "stdout",
     "output_type": "stream",
     "text": [
      "Save model successful.\n"
     ]
    },
    {
     "name": "stderr",
     "output_type": "stream",
     "text": [
      " 38%|███▊      | 1282/3360 [10:33<36:12,  1.05s/it]"
     ]
    },
    {
     "name": "stdout",
     "output_type": "stream",
     "text": [
      "\r",
      "Episode 1280\tAverage Score: 0.21\n"
     ]
    },
    {
     "name": "stderr",
     "output_type": "stream",
     "text": [
      " 40%|████      | 1346/3360 [11:30<31:09,  1.08it/s]"
     ]
    },
    {
     "name": "stdout",
     "output_type": "stream",
     "text": [
      "q_value: 0.06521, critic_loss: 0.00004, actor_loss: -0.03655 \n",
      "q_value: 0.04979, critic_loss: 0.00006, actor_loss: -0.04422 \n",
      "q_value: 0.07589, critic_loss: 0.00005, actor_loss: -0.03445 \n",
      "q_value: 0.05103, critic_loss: 0.00008, actor_loss: -0.04565 \n",
      "q_value: 0.07510, critic_loss: 0.00005, actor_loss: -0.04436 \n",
      "q_value: 0.05143, critic_loss: 0.00007, actor_loss: -0.04496 \n",
      "q_value: 0.06758, critic_loss: 0.00003, actor_loss: -0.03511 \n",
      "q_value: 0.05330, critic_loss: 0.00006, actor_loss: -0.04330 \n",
      "q_value: 0.06952, critic_loss: 0.00006, actor_loss: -0.03629 \n",
      "q_value: 0.05018, critic_loss: 0.00006, actor_loss: -0.03751 \n",
      "q_value: 0.07337, critic_loss: 0.00005, actor_loss: -0.04119 \n",
      "q_value: 0.04734, critic_loss: 0.00005, actor_loss: -0.04498 \n",
      "q_value: 0.07369, critic_loss: 0.00006, actor_loss: -0.03441 \n",
      "q_value: 0.04755, critic_loss: 0.00005, actor_loss: -0.03844 \n",
      "q_value: 0.07263, critic_loss: 0.00004, actor_loss: -0.03864 \n",
      "q_value: 0.05089, critic_loss: 0.00005, actor_loss: -0.04308 \n",
      "q_value: 0.07926, critic_loss: 0.00003, actor_loss: -0.03004 \n",
      "q_value: 0.05115, critic_loss: 0.00006, actor_loss: -0.04758 \n",
      "q_value: 0.06710, critic_loss: 0.00003, actor_loss: -0.03955 \n",
      "q_value: 0.05020, critic_loss: 0.00003, actor_loss: -0.04008 \n",
      "q_value: 0.07615, critic_loss: 0.00007, actor_loss: -0.03075 \n",
      "q_value: 0.05306, critic_loss: 0.00006, actor_loss: -0.05104 \n",
      "q_value: 0.07792, critic_loss: 0.00005, actor_loss: -0.02859 \n"
     ]
    },
    {
     "name": "stderr",
     "output_type": "stream",
     "text": [
      "\r",
      " 40%|████      | 1347/3360 [11:31<31:44,  1.06it/s]"
     ]
    },
    {
     "name": "stdout",
     "output_type": "stream",
     "text": [
      "q_value: 0.05075, critic_loss: 0.00005, actor_loss: -0.02642 \n",
      "q_value: 0.08514, critic_loss: 0.00005, actor_loss: -0.03995 \n",
      "q_value: 0.05147, critic_loss: 0.00003, actor_loss: -0.04341 \n",
      "q_value: 0.08038, critic_loss: 0.00003, actor_loss: -0.03541 \n",
      "q_value: 0.05293, critic_loss: 0.00009, actor_loss: -0.05012 \n",
      "q_value: 0.07610, critic_loss: 0.00003, actor_loss: -0.03948 \n",
      "q_value: 0.04678, critic_loss: 0.00003, actor_loss: -0.03674 \n",
      "q_value: 0.07781, critic_loss: 0.00004, actor_loss: -0.04202 \n",
      "q_value: 0.05014, critic_loss: 0.00006, actor_loss: -0.04586 \n"
     ]
    },
    {
     "name": "stderr",
     "output_type": "stream",
     "text": [
      " 40%|████      | 1354/3360 [11:40<52:49,  1.58s/it]"
     ]
    },
    {
     "name": "stdout",
     "output_type": "stream",
     "text": [
      "Save model successful.\n"
     ]
    },
    {
     "name": "stderr",
     "output_type": "stream",
     "text": [
      " 41%|████▏     | 1387/3360 [12:19<1:02:55,  1.91s/it]"
     ]
    },
    {
     "name": "stdout",
     "output_type": "stream",
     "text": [
      "Save model successful.\n"
     ]
    },
    {
     "name": "stderr",
     "output_type": "stream",
     "text": [
      " 42%|████▏     | 1410/3360 [12:46<48:44,  1.50s/it]  "
     ]
    },
    {
     "name": "stdout",
     "output_type": "stream",
     "text": [
      "\r",
      "Episode 1408\tAverage Score: 0.35\n"
     ]
    },
    {
     "name": "stderr",
     "output_type": "stream",
     "text": [
      " 43%|████▎     | 1445/3360 [13:32<1:00:51,  1.91s/it]"
     ]
    },
    {
     "name": "stdout",
     "output_type": "stream",
     "text": [
      "Save model successful.\n"
     ]
    },
    {
     "name": "stderr",
     "output_type": "stream",
     "text": [
      " 44%|████▍     | 1474/3360 [14:11<38:54,  1.24s/it]  "
     ]
    },
    {
     "name": "stdout",
     "output_type": "stream",
     "text": [
      "q_value: 0.06460, critic_loss: 0.00004, actor_loss: -0.03178 \n",
      "q_value: 0.05712, critic_loss: 0.00009, actor_loss: -0.04983 \n",
      "q_value: 0.07076, critic_loss: 0.00008, actor_loss: -0.04124 \n",
      "q_value: 0.05937, critic_loss: 0.00007, actor_loss: -0.05882 \n",
      "q_value: 0.05840, critic_loss: 0.00006, actor_loss: -0.02549 \n",
      "q_value: 0.06058, critic_loss: 0.00007, actor_loss: -0.03904 \n",
      "q_value: 0.07307, critic_loss: 0.00006, actor_loss: -0.04255 \n",
      "q_value: 0.05838, critic_loss: 0.00005, actor_loss: -0.04975 \n",
      "q_value: 0.07273, critic_loss: 0.00007, actor_loss: -0.04979 \n",
      "q_value: 0.05825, critic_loss: 0.00011, actor_loss: -0.05329 \n",
      "q_value: 0.07342, critic_loss: 0.00006, actor_loss: -0.04107 \n",
      "q_value: 0.05862, critic_loss: 0.00008, actor_loss: -0.04520 \n",
      "q_value: 0.07430, critic_loss: 0.00006, actor_loss: -0.04055 \n",
      "q_value: 0.05907, critic_loss: 0.00009, actor_loss: -0.05401 \n",
      "q_value: 0.05385, critic_loss: 0.00005, actor_loss: -0.02936 \n",
      "q_value: 0.05713, critic_loss: 0.00007, actor_loss: -0.04809 \n",
      "q_value: 0.06796, critic_loss: 0.00005, actor_loss: -0.03729 \n",
      "q_value: 0.05866, critic_loss: 0.00006, actor_loss: -0.05521 \n",
      "q_value: 0.07205, critic_loss: 0.00009, actor_loss: -0.05022 \n",
      "q_value: 0.05938, critic_loss: 0.00007, actor_loss: -0.05528 \n",
      "q_value: 0.06998, critic_loss: 0.00006, actor_loss: -0.02624 \n",
      "q_value: 0.05752, critic_loss: 0.00005, actor_loss: -0.04917 \n",
      "q_value: 0.07270, critic_loss: 0.00004, actor_loss: -0.04967 \n",
      "q_value: 0.05214, critic_loss: 0.00005, actor_loss: -0.04271 \n"
     ]
    },
    {
     "name": "stderr",
     "output_type": "stream",
     "text": [
      "\r",
      " 44%|████▍     | 1475/3360 [14:12<37:00,  1.18s/it]"
     ]
    },
    {
     "name": "stdout",
     "output_type": "stream",
     "text": [
      "q_value: 0.07520, critic_loss: 0.00004, actor_loss: -0.04269 \n",
      "q_value: 0.05652, critic_loss: 0.00005, actor_loss: -0.04020 \n",
      "q_value: 0.07335, critic_loss: 0.00005, actor_loss: -0.04389 \n",
      "q_value: 0.05533, critic_loss: 0.00006, actor_loss: -0.04511 \n",
      "q_value: 0.06489, critic_loss: 0.00006, actor_loss: -0.03561 \n",
      "q_value: 0.05624, critic_loss: 0.00008, actor_loss: -0.05157 \n",
      "q_value: 0.07285, critic_loss: 0.00005, actor_loss: -0.04713 \n",
      "q_value: 0.05633, critic_loss: 0.00012, actor_loss: -0.05603 \n"
     ]
    },
    {
     "name": "stderr",
     "output_type": "stream",
     "text": [
      " 44%|████▍     | 1493/3360 [14:38<1:05:30,  2.11s/it]"
     ]
    },
    {
     "name": "stdout",
     "output_type": "stream",
     "text": [
      "Save model successful.\n"
     ]
    },
    {
     "name": "stderr",
     "output_type": "stream",
     "text": [
      " 46%|████▌     | 1538/3360 [16:05<56:52,  1.87s/it]  "
     ]
    },
    {
     "name": "stdout",
     "output_type": "stream",
     "text": [
      "\r",
      "Episode 1536\tAverage Score: 0.63\n"
     ]
    },
    {
     "name": "stderr",
     "output_type": "stream",
     "text": [
      " 48%|████▊     | 1602/3360 [18:53<1:19:09,  2.70s/it]"
     ]
    },
    {
     "name": "stdout",
     "output_type": "stream",
     "text": [
      "q_value: 0.07765, critic_loss: 0.00004, actor_loss: -0.04414 \n",
      "q_value: 0.04770, critic_loss: 0.00004, actor_loss: -0.04032 \n",
      "q_value: 0.07971, critic_loss: 0.00003, actor_loss: -0.03378 \n",
      "q_value: 0.04994, critic_loss: 0.00005, actor_loss: -0.03854 \n",
      "q_value: 0.08007, critic_loss: 0.00003, actor_loss: -0.03773 \n",
      "q_value: 0.05438, critic_loss: 0.00005, actor_loss: -0.05001 \n",
      "q_value: 0.08037, critic_loss: 0.00004, actor_loss: -0.04602 \n",
      "q_value: 0.05289, critic_loss: 0.00003, actor_loss: -0.04614 \n",
      "q_value: 0.08408, critic_loss: 0.00005, actor_loss: -0.04842 \n",
      "q_value: 0.05286, critic_loss: 0.00004, actor_loss: -0.04615 \n",
      "q_value: 0.08419, critic_loss: 0.00004, actor_loss: -0.03005 \n",
      "q_value: 0.05345, critic_loss: 0.00003, actor_loss: -0.05227 \n",
      "q_value: 0.07623, critic_loss: 0.00004, actor_loss: -0.02567 \n",
      "q_value: 0.05506, critic_loss: 0.00004, actor_loss: -0.04189 \n",
      "q_value: 0.08000, critic_loss: 0.00005, actor_loss: -0.04020 \n",
      "q_value: 0.05622, critic_loss: 0.00005, actor_loss: -0.05187 \n",
      "q_value: 0.07924, critic_loss: 0.00003, actor_loss: -0.04682 \n",
      "q_value: 0.05372, critic_loss: 0.00003, actor_loss: -0.04517 \n",
      "q_value: 0.07179, critic_loss: 0.00002, actor_loss: -0.03798 \n",
      "q_value: 0.05539, critic_loss: 0.00004, actor_loss: -0.05239 \n",
      "q_value: 0.07229, critic_loss: 0.00006, actor_loss: -0.04206 \n",
      "q_value: 0.05165, critic_loss: 0.00003, actor_loss: -0.03817 \n",
      "q_value: 0.07095, critic_loss: 0.00002, actor_loss: -0.02788 \n",
      "q_value: 0.05502, critic_loss: 0.00005, actor_loss: -0.04854 \n",
      "q_value: 0.07885, critic_loss: 0.00003, actor_loss: -0.03375 \n",
      "q_value: 0.05491, critic_loss: 0.00005, actor_loss: -0.04246 \n",
      "q_value: 0.08362, critic_loss: 0.00003, actor_loss: -0.04982 \n",
      "q_value: 0.05404, critic_loss: 0.00006, actor_loss: -0.04490 \n",
      "q_value: 0.07572, critic_loss: 0.00003, actor_loss: -0.03544 \n",
      "q_value: 0.05405, critic_loss: 0.00004, actor_loss: -0.04066 \n"
     ]
    },
    {
     "name": "stderr",
     "output_type": "stream",
     "text": [
      "\r",
      " 48%|████▊     | 1603/3360 [18:55<1:11:49,  2.45s/it]"
     ]
    },
    {
     "name": "stdout",
     "output_type": "stream",
     "text": [
      "q_value: 0.08248, critic_loss: 0.00005, actor_loss: -0.05007 \n",
      "q_value: 0.05493, critic_loss: 0.00007, actor_loss: -0.05774 \n"
     ]
    },
    {
     "name": "stderr",
     "output_type": "stream",
     "text": [
      " 49%|████▊     | 1630/3360 [20:15<1:44:37,  3.63s/it]"
     ]
    },
    {
     "name": "stdout",
     "output_type": "stream",
     "text": [
      "Save model successful.\n"
     ]
    },
    {
     "name": "stderr",
     "output_type": "stream",
     "text": [
      " 50%|████▉     | 1666/3360 [22:19<1:41:16,  3.59s/it]"
     ]
    },
    {
     "name": "stdout",
     "output_type": "stream",
     "text": [
      "\r",
      "Episode 1664\tAverage Score: 1.40\n"
     ]
    },
    {
     "name": "stderr",
     "output_type": "stream",
     "text": [
      " 51%|█████▏    | 1730/3360 [25:58<1:18:37,  2.89s/it]"
     ]
    },
    {
     "name": "stdout",
     "output_type": "stream",
     "text": [
      "q_value: 0.07743, critic_loss: 0.00006, actor_loss: -0.03494 \n",
      "q_value: 0.06266, critic_loss: 0.00007, actor_loss: -0.05207 \n",
      "q_value: 0.07024, critic_loss: 0.00006, actor_loss: -0.04122 \n",
      "q_value: 0.06437, critic_loss: 0.00006, actor_loss: -0.05158 \n",
      "q_value: 0.07376, critic_loss: 0.00006, actor_loss: -0.03911 \n",
      "q_value: 0.06145, critic_loss: 0.00005, actor_loss: -0.03897 \n",
      "q_value: 0.07336, critic_loss: 0.00004, actor_loss: -0.03644 \n",
      "q_value: 0.06269, critic_loss: 0.00005, actor_loss: -0.03870 \n",
      "q_value: 0.07445, critic_loss: 0.00007, actor_loss: -0.05129 \n",
      "q_value: 0.05520, critic_loss: 0.00006, actor_loss: -0.04161 \n",
      "q_value: 0.07935, critic_loss: 0.00004, actor_loss: -0.02445 \n",
      "q_value: 0.06324, critic_loss: 0.00006, actor_loss: -0.04416 \n",
      "q_value: 0.08168, critic_loss: 0.00005, actor_loss: -0.04947 \n",
      "q_value: 0.06163, critic_loss: 0.00005, actor_loss: -0.05024 \n",
      "q_value: 0.08187, critic_loss: 0.00005, actor_loss: -0.04422 \n",
      "q_value: 0.05117, critic_loss: 0.00007, actor_loss: -0.03744 \n",
      "q_value: 0.08054, critic_loss: 0.00003, actor_loss: -0.04788 \n",
      "q_value: 0.05823, critic_loss: 0.00006, actor_loss: -0.05334 \n",
      "q_value: 0.07782, critic_loss: 0.00005, actor_loss: -0.04117 \n",
      "q_value: 0.05887, critic_loss: 0.00009, actor_loss: -0.05439 \n",
      "q_value: 0.07793, critic_loss: 0.00004, actor_loss: -0.05144 \n",
      "q_value: 0.05844, critic_loss: 0.00006, actor_loss: -0.04372 \n",
      "q_value: 0.06858, critic_loss: 0.00002, actor_loss: -0.03712 \n",
      "q_value: 0.05723, critic_loss: 0.00006, actor_loss: -0.03852 \n",
      "q_value: 0.07150, critic_loss: 0.00007, actor_loss: -0.04664 \n",
      "q_value: 0.06288, critic_loss: 0.00007, actor_loss: -0.05973 \n",
      "q_value: 0.07780, critic_loss: 0.00004, actor_loss: -0.04854 \n",
      "q_value: 0.06256, critic_loss: 0.00005, actor_loss: -0.04721 \n",
      "q_value: 0.07905, critic_loss: 0.00003, actor_loss: -0.04063 \n",
      "q_value: 0.06750, critic_loss: 0.00006, actor_loss: -0.04959 \n"
     ]
    },
    {
     "name": "stderr",
     "output_type": "stream",
     "text": [
      "\r",
      " 52%|█████▏    | 1731/3360 [26:01<1:24:05,  3.10s/it]"
     ]
    },
    {
     "name": "stdout",
     "output_type": "stream",
     "text": [
      "q_value: 0.07749, critic_loss: 0.00008, actor_loss: -0.04445 \n",
      "q_value: 0.06121, critic_loss: 0.00004, actor_loss: -0.04441 \n"
     ]
    },
    {
     "name": "stderr",
     "output_type": "stream",
     "text": [
      " 53%|█████▎    | 1794/3360 [29:26<1:11:41,  2.75s/it]"
     ]
    },
    {
     "name": "stdout",
     "output_type": "stream",
     "text": [
      "\r",
      "Episode 1792\tAverage Score: 1.43\n"
     ]
    },
    {
     "name": "stderr",
     "output_type": "stream",
     "text": [
      " 54%|█████▍    | 1831/3360 [31:28<26:17,  1.03s/it]  \n"
     ]
    },
    {
     "ename": "KeyboardInterrupt",
     "evalue": "",
     "output_type": "error",
     "traceback": [
      "\u001b[0;31m---------------------------------------------------------------------------\u001b[0m",
      "\u001b[0;31mKeyboardInterrupt\u001b[0m                         Traceback (most recent call last)",
      "\u001b[0;32m<ipython-input-21-21dcad1a1dae>\u001b[0m in \u001b[0;36m<module>\u001b[0;34m\u001b[0m\n\u001b[1;32m     13\u001b[0m \u001b[0;31m#                 agent.act(states, reset_states=False)\u001b[0m\u001b[0;34m\u001b[0m\u001b[0;34m\u001b[0m\u001b[0;34m\u001b[0m\u001b[0m\n\u001b[1;32m     14\u001b[0m             \u001b[0mactions\u001b[0m \u001b[0;34m=\u001b[0m \u001b[0magent\u001b[0m\u001b[0;34m.\u001b[0m\u001b[0mact\u001b[0m\u001b[0;34m(\u001b[0m\u001b[0mstates\u001b[0m\u001b[0;34m)\u001b[0m \u001b[0;31m# select an action (for each agent)\u001b[0m\u001b[0;34m\u001b[0m\u001b[0;34m\u001b[0m\u001b[0m\n\u001b[0;32m---> 15\u001b[0;31m             \u001b[0menv_info\u001b[0m \u001b[0;34m=\u001b[0m \u001b[0menv\u001b[0m\u001b[0;34m.\u001b[0m\u001b[0mstep\u001b[0m\u001b[0;34m(\u001b[0m\u001b[0mactions\u001b[0m\u001b[0;34m)\u001b[0m\u001b[0;34m[\u001b[0m\u001b[0mbrain_name\u001b[0m\u001b[0;34m]\u001b[0m           \u001b[0;31m# send all actions to tne environment\u001b[0m\u001b[0;34m\u001b[0m\u001b[0;34m\u001b[0m\u001b[0m\n\u001b[0m\u001b[1;32m     16\u001b[0m             \u001b[0mnext_states\u001b[0m \u001b[0;34m=\u001b[0m \u001b[0menv_info\u001b[0m\u001b[0;34m.\u001b[0m\u001b[0mvector_observations\u001b[0m \u001b[0;31m# get next state (for each agent)\u001b[0m\u001b[0;34m\u001b[0m\u001b[0;34m\u001b[0m\u001b[0m\n\u001b[1;32m     17\u001b[0m             \u001b[0mrewards\u001b[0m \u001b[0;34m=\u001b[0m \u001b[0mnp\u001b[0m\u001b[0;34m.\u001b[0m\u001b[0marray\u001b[0m\u001b[0;34m(\u001b[0m\u001b[0menv_info\u001b[0m\u001b[0;34m.\u001b[0m\u001b[0mrewards\u001b[0m\u001b[0;34m)\u001b[0m               \u001b[0;31m# get reward (for each agent)\u001b[0m\u001b[0;34m\u001b[0m\u001b[0;34m\u001b[0m\u001b[0m\n",
      "\u001b[0;32m~/miniconda3/envs/rlnd/lib/python3.6/site-packages/unityagents/environment.py\u001b[0m in \u001b[0;36mstep\u001b[0;34m(self, vector_action, memory, text_action)\u001b[0m\n\u001b[1;32m    367\u001b[0m \u001b[0;34m\u001b[0m\u001b[0m\n\u001b[1;32m    368\u001b[0m             outputs = self.communicator.exchange(\n\u001b[0;32m--> 369\u001b[0;31m                 \u001b[0mself\u001b[0m\u001b[0;34m.\u001b[0m\u001b[0m_generate_step_input\u001b[0m\u001b[0;34m(\u001b[0m\u001b[0mvector_action\u001b[0m\u001b[0;34m,\u001b[0m \u001b[0mmemory\u001b[0m\u001b[0;34m,\u001b[0m \u001b[0mtext_action\u001b[0m\u001b[0;34m)\u001b[0m\u001b[0;34m\u001b[0m\u001b[0;34m\u001b[0m\u001b[0m\n\u001b[0m\u001b[1;32m    370\u001b[0m             )\n\u001b[1;32m    371\u001b[0m             \u001b[0;32mif\u001b[0m \u001b[0moutputs\u001b[0m \u001b[0;32mis\u001b[0m \u001b[0;32mNone\u001b[0m\u001b[0;34m:\u001b[0m\u001b[0;34m\u001b[0m\u001b[0;34m\u001b[0m\u001b[0m\n",
      "\u001b[0;32m~/miniconda3/envs/rlnd/lib/python3.6/site-packages/unityagents/rpc_communicator.py\u001b[0m in \u001b[0;36mexchange\u001b[0;34m(self, inputs)\u001b[0m\n\u001b[1;32m     76\u001b[0m         \u001b[0mmessage\u001b[0m\u001b[0;34m.\u001b[0m\u001b[0munity_input\u001b[0m\u001b[0;34m.\u001b[0m\u001b[0mCopyFrom\u001b[0m\u001b[0;34m(\u001b[0m\u001b[0minputs\u001b[0m\u001b[0;34m)\u001b[0m\u001b[0;34m\u001b[0m\u001b[0;34m\u001b[0m\u001b[0m\n\u001b[1;32m     77\u001b[0m         \u001b[0mself\u001b[0m\u001b[0;34m.\u001b[0m\u001b[0munity_to_external\u001b[0m\u001b[0;34m.\u001b[0m\u001b[0mparent_conn\u001b[0m\u001b[0;34m.\u001b[0m\u001b[0msend\u001b[0m\u001b[0;34m(\u001b[0m\u001b[0mmessage\u001b[0m\u001b[0;34m)\u001b[0m\u001b[0;34m\u001b[0m\u001b[0;34m\u001b[0m\u001b[0m\n\u001b[0;32m---> 78\u001b[0;31m         \u001b[0moutput\u001b[0m \u001b[0;34m=\u001b[0m \u001b[0mself\u001b[0m\u001b[0;34m.\u001b[0m\u001b[0munity_to_external\u001b[0m\u001b[0;34m.\u001b[0m\u001b[0mparent_conn\u001b[0m\u001b[0;34m.\u001b[0m\u001b[0mrecv\u001b[0m\u001b[0;34m(\u001b[0m\u001b[0;34m)\u001b[0m\u001b[0;34m\u001b[0m\u001b[0;34m\u001b[0m\u001b[0m\n\u001b[0m\u001b[1;32m     79\u001b[0m         \u001b[0;32mif\u001b[0m \u001b[0moutput\u001b[0m\u001b[0;34m.\u001b[0m\u001b[0mheader\u001b[0m\u001b[0;34m.\u001b[0m\u001b[0mstatus\u001b[0m \u001b[0;34m!=\u001b[0m \u001b[0;36m200\u001b[0m\u001b[0;34m:\u001b[0m\u001b[0;34m\u001b[0m\u001b[0;34m\u001b[0m\u001b[0m\n\u001b[1;32m     80\u001b[0m             \u001b[0;32mreturn\u001b[0m \u001b[0;32mNone\u001b[0m\u001b[0;34m\u001b[0m\u001b[0;34m\u001b[0m\u001b[0m\n",
      "\u001b[0;32m~/miniconda3/envs/rlnd/lib/python3.6/multiprocessing/connection.py\u001b[0m in \u001b[0;36mrecv\u001b[0;34m(self)\u001b[0m\n\u001b[1;32m    248\u001b[0m         \u001b[0mself\u001b[0m\u001b[0;34m.\u001b[0m\u001b[0m_check_closed\u001b[0m\u001b[0;34m(\u001b[0m\u001b[0;34m)\u001b[0m\u001b[0;34m\u001b[0m\u001b[0;34m\u001b[0m\u001b[0m\n\u001b[1;32m    249\u001b[0m         \u001b[0mself\u001b[0m\u001b[0;34m.\u001b[0m\u001b[0m_check_readable\u001b[0m\u001b[0;34m(\u001b[0m\u001b[0;34m)\u001b[0m\u001b[0;34m\u001b[0m\u001b[0;34m\u001b[0m\u001b[0m\n\u001b[0;32m--> 250\u001b[0;31m         \u001b[0mbuf\u001b[0m \u001b[0;34m=\u001b[0m \u001b[0mself\u001b[0m\u001b[0;34m.\u001b[0m\u001b[0m_recv_bytes\u001b[0m\u001b[0;34m(\u001b[0m\u001b[0;34m)\u001b[0m\u001b[0;34m\u001b[0m\u001b[0;34m\u001b[0m\u001b[0m\n\u001b[0m\u001b[1;32m    251\u001b[0m         \u001b[0;32mreturn\u001b[0m \u001b[0m_ForkingPickler\u001b[0m\u001b[0;34m.\u001b[0m\u001b[0mloads\u001b[0m\u001b[0;34m(\u001b[0m\u001b[0mbuf\u001b[0m\u001b[0;34m.\u001b[0m\u001b[0mgetbuffer\u001b[0m\u001b[0;34m(\u001b[0m\u001b[0;34m)\u001b[0m\u001b[0;34m)\u001b[0m\u001b[0;34m\u001b[0m\u001b[0;34m\u001b[0m\u001b[0m\n\u001b[1;32m    252\u001b[0m \u001b[0;34m\u001b[0m\u001b[0m\n",
      "\u001b[0;32m~/miniconda3/envs/rlnd/lib/python3.6/multiprocessing/connection.py\u001b[0m in \u001b[0;36m_recv_bytes\u001b[0;34m(self, maxsize)\u001b[0m\n\u001b[1;32m    405\u001b[0m \u001b[0;34m\u001b[0m\u001b[0m\n\u001b[1;32m    406\u001b[0m     \u001b[0;32mdef\u001b[0m \u001b[0m_recv_bytes\u001b[0m\u001b[0;34m(\u001b[0m\u001b[0mself\u001b[0m\u001b[0;34m,\u001b[0m \u001b[0mmaxsize\u001b[0m\u001b[0;34m=\u001b[0m\u001b[0;32mNone\u001b[0m\u001b[0;34m)\u001b[0m\u001b[0;34m:\u001b[0m\u001b[0;34m\u001b[0m\u001b[0;34m\u001b[0m\u001b[0m\n\u001b[0;32m--> 407\u001b[0;31m         \u001b[0mbuf\u001b[0m \u001b[0;34m=\u001b[0m \u001b[0mself\u001b[0m\u001b[0;34m.\u001b[0m\u001b[0m_recv\u001b[0m\u001b[0;34m(\u001b[0m\u001b[0;36m4\u001b[0m\u001b[0;34m)\u001b[0m\u001b[0;34m\u001b[0m\u001b[0;34m\u001b[0m\u001b[0m\n\u001b[0m\u001b[1;32m    408\u001b[0m         \u001b[0msize\u001b[0m\u001b[0;34m,\u001b[0m \u001b[0;34m=\u001b[0m \u001b[0mstruct\u001b[0m\u001b[0;34m.\u001b[0m\u001b[0munpack\u001b[0m\u001b[0;34m(\u001b[0m\u001b[0;34m\"!i\"\u001b[0m\u001b[0;34m,\u001b[0m \u001b[0mbuf\u001b[0m\u001b[0;34m.\u001b[0m\u001b[0mgetvalue\u001b[0m\u001b[0;34m(\u001b[0m\u001b[0;34m)\u001b[0m\u001b[0;34m)\u001b[0m\u001b[0;34m\u001b[0m\u001b[0;34m\u001b[0m\u001b[0m\n\u001b[1;32m    409\u001b[0m         \u001b[0;32mif\u001b[0m \u001b[0mmaxsize\u001b[0m \u001b[0;32mis\u001b[0m \u001b[0;32mnot\u001b[0m \u001b[0;32mNone\u001b[0m \u001b[0;32mand\u001b[0m \u001b[0msize\u001b[0m \u001b[0;34m>\u001b[0m \u001b[0mmaxsize\u001b[0m\u001b[0;34m:\u001b[0m\u001b[0;34m\u001b[0m\u001b[0;34m\u001b[0m\u001b[0m\n",
      "\u001b[0;32m~/miniconda3/envs/rlnd/lib/python3.6/multiprocessing/connection.py\u001b[0m in \u001b[0;36m_recv\u001b[0;34m(self, size, read)\u001b[0m\n\u001b[1;32m    377\u001b[0m         \u001b[0mremaining\u001b[0m \u001b[0;34m=\u001b[0m \u001b[0msize\u001b[0m\u001b[0;34m\u001b[0m\u001b[0;34m\u001b[0m\u001b[0m\n\u001b[1;32m    378\u001b[0m         \u001b[0;32mwhile\u001b[0m \u001b[0mremaining\u001b[0m \u001b[0;34m>\u001b[0m \u001b[0;36m0\u001b[0m\u001b[0;34m:\u001b[0m\u001b[0;34m\u001b[0m\u001b[0;34m\u001b[0m\u001b[0m\n\u001b[0;32m--> 379\u001b[0;31m             \u001b[0mchunk\u001b[0m \u001b[0;34m=\u001b[0m \u001b[0mread\u001b[0m\u001b[0;34m(\u001b[0m\u001b[0mhandle\u001b[0m\u001b[0;34m,\u001b[0m \u001b[0mremaining\u001b[0m\u001b[0;34m)\u001b[0m\u001b[0;34m\u001b[0m\u001b[0;34m\u001b[0m\u001b[0m\n\u001b[0m\u001b[1;32m    380\u001b[0m             \u001b[0mn\u001b[0m \u001b[0;34m=\u001b[0m \u001b[0mlen\u001b[0m\u001b[0;34m(\u001b[0m\u001b[0mchunk\u001b[0m\u001b[0;34m)\u001b[0m\u001b[0;34m\u001b[0m\u001b[0;34m\u001b[0m\u001b[0m\n\u001b[1;32m    381\u001b[0m             \u001b[0;32mif\u001b[0m \u001b[0mn\u001b[0m \u001b[0;34m==\u001b[0m \u001b[0;36m0\u001b[0m\u001b[0;34m:\u001b[0m\u001b[0;34m\u001b[0m\u001b[0;34m\u001b[0m\u001b[0m\n",
      "\u001b[0;31mKeyboardInterrupt\u001b[0m: "
     ]
    }
   ],
   "source": [
    "NUM_EPISODES = 3360\n",
    "with tqdm(total=NUM_EPISODES) as pbar:\n",
    "    for i_episode in range(NUM_EPISODES):\n",
    "        pbar.update(1)\n",
    "        env_info = env.reset(train_mode=True)[brain_name]      # reset the environment    \n",
    "        states = env_info.vector_observations                  # get the current state (for each agent)\n",
    "        scores = np.zeros(num_agents)                          # initialize the score (for each agent)\n",
    "        episodic_observations, episodic_actions, episodic_rewards, episodic_nstates, episodic_dones = [], [], [], [], []\n",
    "        while True:\n",
    "            actions = agent.act(states)                        # select an action (for each agent)\n",
    "            env_info = env.step(actions)[brain_name]           # send all actions to tne environment\n",
    "            next_states = env_info.vector_observations         # get next state (for each agent)\n",
    "            rewards = np.array(env_info.rewards)               # get reward (for each agent)\n",
    "            dones = np.array(env_info.local_done)              # see if episode finished\n",
    "            scores += env_info.rewards                         # update the score (for each agent)\n",
    "\n",
    "            # Save episode\n",
    "            episodic_observations.append(np.stack([states.reshape(-1), states.reshape(-1)], axis=0))\n",
    "            episodic_actions.append(np.stack([actions.reshape(-1), actions.reshape(-1)], axis=0))\n",
    "            episodic_rewards.append(rewards)\n",
    "            episodic_nstates.append(np.stack([next_states.reshape(-1), next_states.reshape(-1)], axis=0))\n",
    "            episodic_dones.append(dones)\n",
    "            \n",
    "            states = next_states\n",
    "            if np.any(dones):                                  # exit loop if episode finished\n",
    "                break\n",
    "                \n",
    "        episodic_observations = np.stack(episodic_observations, 1)  # [2, seq_len, states_size]\n",
    "        episodic_actions = np.stack(episodic_actions, 1)\n",
    "        episodic_rewards = np.stack(episodic_rewards, 1)\n",
    "        episodic_nstates = np.stack(episodic_nstates, 1)\n",
    "        episodic_dones = np.stack(episodic_dones, 1)\n",
    "\n",
    "        for j in range(num_agents):\n",
    "            if j == 0:\n",
    "                agent.memory_0.add(episodic_observations[j], episodic_actions[j], episodic_rewards[j], episodic_nstates[j], episodic_dones[j])\n",
    "            if j == 1:\n",
    "                agent.memory_1.add(episodic_observations[j], episodic_actions[j], episodic_rewards[j], episodic_nstates[j], episodic_dones[j])\n",
    "\n",
    "        if i_episode > 2*BATCH_SIZE:\n",
    "            agent.step(BATCH_SIZE, learn_num=LEARN_NUM)\n",
    "            max_scores.append(np.max(scores))\n",
    "            avg_score = np.mean(max_scores[-100:])\n",
    "            avg_scores.append(avg_score)\n",
    "            if i_episode % LOG_INTERVAL == 0:\n",
    "                print('\\rEpisode {}\\tAverage Score: {:.2f}'.format(i_episode, avg_score))\n",
    "            if avg_score > best_scores:\n",
    "                best_scores = avg_score\n",
    "                best_scores = max_scores[-1]\n",
    "                torch.save({'agent': agent.state_dict()}, 'MADDPG.ckpt')\n",
    "                print('Save model successful.')"
   ]
  },
  {
   "cell_type": "code",
   "execution_count": 25,
   "metadata": {},
   "outputs": [
    {
     "data": {
      "image/png": "[encoded data removed]",
      "text/plain": [
       "<Figure size 432x288 with 1 Axes>"
      ]
     },
     "metadata": {},
     "output_type": "display_data"
    }
   ],
   "source": [
    "import matplotlib.pyplot as plt\n",
    "import seaborn as sns\n",
    "sns.set_style('darkgrid')\n",
    "\n",
    "plt.plot(max_scores)\n",
    "plt.plot(avg_scores)\n",
    "plt.grid(True)\n",
    "plt.show()"
   ]
  },
  {
   "cell_type": "code",
   "execution_count": 31,
   "metadata": {},
   "outputs": [],
   "source": [
    "import pandas as pd\n",
    "df = pd.DataFrame(max_scores)\n",
    "df.to_csv('MADDPG_max_scores.csv', encoding='utf-8')"
   ]
  },
  {
   "cell_type": "code",
   "execution_count": null,
   "metadata": {},
   "outputs": [],
   "source": []
  }
 ],
 "metadata": {
  "kernelspec": {
   "display_name": "Python 3",
   "language": "python",
   "name": "python3"
  },
  "language_info": {
   "codemirror_mode": {
    "name": "ipython",
    "version": 3
   },
   "file_extension": ".py",
   "mimetype": "text/x-python",
   "name": "python",
   "nbconvert_exporter": "python",
   "pygments_lexer": "ipython3",
   "version": "3.6.10"
  }
 },
 "nbformat": 4,
 "nbformat_minor": 4
}
